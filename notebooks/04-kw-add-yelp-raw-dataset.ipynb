{
 "cells": [
  {
   "cell_type": "code",
   "execution_count": 1,
   "metadata": {},
   "outputs": [],
   "source": [
    "import pandas as pd\n",
    "import pathlib\n",
    "import numpy as np\n",
    "from pprint import pprint\n",
    "from functools import partial\n",
    "import json\n",
    "import random\n",
    "\n",
    "from src.data import datasets, utils, Dataset, RawDataset\n",
    "from src.data.datasets import build_dataset_dict, load_dataset, fetch_and_unpack\n",
    "from src.data.fetch import fetch_text_file, hash_file\n",
    "from src.data.utils import list_dir, head_file, normalize_labels, read_space_delimited, reservoir_sample\n",
    "from src.paths import interim_data_path, raw_data_path, processed_data_path"
   ]
  },
  {
   "cell_type": "code",
   "execution_count": 2,
   "metadata": {},
   "outputs": [],
   "source": [
    "%load_ext autoreload\n",
    "%autoreload 2"
   ]
  },
  {
   "cell_type": "markdown",
   "metadata": {},
   "source": [
    "# Adding and Processing the Yelp Dataset\n",
    "\n"
   ]
  },
  {
   "cell_type": "markdown",
   "metadata": {},
   "source": [
    "### Adding to the raw dataset list\n",
    "A raw dataset is really just a list of files (and their associated hash values) and metadata that is later processed into a usable dataset. \n",
    "\n",
    "1. Assemble the raw data files.\n",
    "2. Generate hashes to check the validity of these files\n",
    "3. Add LICENSE and DESCR (description) metadata to the dataset\n"
   ]
  },
  {
   "cell_type": "code",
   "execution_count": 3,
   "metadata": {},
   "outputs": [],
   "source": [
    "dataset_name='yelp'"
   ]
  },
  {
   "cell_type": "markdown",
   "metadata": {},
   "source": [
    "The yelp dataset is free to use under a reasonable license agreement, but you need to register to download a copy.\n",
    "https://www.yelp.com/dataset/download\n"
   ]
  },
  {
   "cell_type": "markdown",
   "metadata": {},
   "source": [
    "Once we have followed the instructions at the above link, we should have a local copy of the tarfile"
   ]
  },
  {
   "cell_type": "markdown",
   "metadata": {},
   "source": [
    "By default, we store raw data in `src.paths.raw_data_path` (by default: `data/raw`)"
   ]
  },
  {
   "cell_type": "code",
   "execution_count": 4,
   "metadata": {},
   "outputs": [
    {
     "data": {
      "text/plain": [
       "['.gitkeep', 'yelp.readme', 'yelp_dataset.tar.gz']"
      ]
     },
     "execution_count": 4,
     "metadata": {},
     "output_type": "execute_result"
    }
   ],
   "source": [
    "from src.paths import raw_data_path\n",
    "from src.data.utils import list_dir\n",
    "\n",
    "list_dir(raw_data_path)"
   ]
  },
  {
   "cell_type": "markdown",
   "metadata": {},
   "source": [
    "If you have an independent way of verifying the hashes, do so. Otherwise, you can compute them the first time using `build_dataset_dict`. Note, this can also download from a URL if no extra verification is required"
   ]
  },
  {
   "cell_type": "code",
   "execution_count": 5,
   "metadata": {},
   "outputs": [
    {
     "name": "stdout",
     "output_type": "stream",
     "text": [
      "Help on function build_dataset_dict in module src.data.datasets:\n",
      "\n",
      "build_dataset_dict(hash_type='sha1', hash_value=None, url=None, name=None, file_name=None, from_txt=None)\n",
      "    Build a raw dataset dictionary entry for a file.\n",
      "    \n",
      "    This will fetch the file if `url` is specified.\n",
      "    \n",
      "    If `hash_value` is specified, the file hash will be checked.\n",
      "    Otherwise, the hash will be computed and returned.\n",
      "    \n",
      "    hash_type: {'sha1', 'md5', 'sha256'}\n",
      "    hash_value: string or None\n",
      "        Hash to use when validating the specified file.\n",
      "        if None, the hash will be computed from downloaded file\n",
      "    file_name: string or None\n",
      "        Name of downloaded file. If None, will be the last component of the URL\n",
      "    url: string\n",
      "        If speficied, the file will be fetched from this URL\n",
      "    from_txt: string\n",
      "        contents of file to create.\n",
      "        One of `url` or `from_txt` must be specified\n",
      "    name: string\n",
      "        this field can be used to indicate the type of datafile being downloaded.\n",
      "        Usually, this is just informational. However, if you specify names `DESCR` or `LICENSE`,\n",
      "        the contents of this (text) file dataset description and license text, respectively.\n",
      "    \n",
      "    returns: dict\n",
      "\n"
     ]
    }
   ],
   "source": [
    "help(build_dataset_dict)"
   ]
  },
  {
   "cell_type": "code",
   "execution_count": 6,
   "metadata": {},
   "outputs": [
    {
     "data": {
      "text/plain": [
       "{'name': None,\n",
       " 'file_name': 'yelp_dataset.tar.gz',\n",
       " 'hash_type': 'sha1',\n",
       " 'hash_value': '096ac5ced8a9229ecc5116e77b6be8d8f90fdacb'}"
      ]
     },
     "execution_count": 6,
     "metadata": {},
     "output_type": "execute_result"
    }
   ],
   "source": [
    "rawdata = RawDataset(dataset_name=dataset_name)\n",
    "RawDataset.add_file('yelp_dataset.tar.gz', hash_type='sha1')\n",
    "RawDataset.add_url('https://...', hash_type='sha1', fetch=True)\n",
    "rawdata.metadata['descr'] = yelp_readme\n",
    "rawdata.metadata['license'] = yelp_license\n",
    "\n",
    "RawDataset.set_process_function(func)\n",
    "\n",
    "rawdata.save_json(dataset_name, 'dataset.json')\n",
    "\n",
    "def load_dataset(rawdata, **opts):\n",
    "    rawdata.fetch()\n",
    "    rawdate.unpack()\n",
    "    ds = rawdata.process(**opts)\n",
    "    return ds\n",
    "\n",
    "ds.dump(file_stub)\n",
    "\n",
    "raw_datasets = [\n",
    "    {\n",
    "        'dataset_name':'yelp',\n",
    "        'ds_opts':{'num_reviews':10000},\n",
    "        'alg_name':est,\n",
    "        'alg_opts':{},\n",
    "        'suffix': None\n",
    "    }\n",
    "]\n",
    "\n",
    "for ds_stub, opts in raw_datasets.items():\n",
    "    if suffix is None:\n",
    "        ds_stub = f'{dataset_name}_{alg_name}'\n",
    "    else:\n",
    "        ds_stub = f'{dataset_name}_{alg_name}_{suffix}'\n",
    "    # check if ds_stub already exists on disk\n",
    "    ## if exists, check metadata, including ds_opts, alg_opts. If different, die with error\n",
    "    ds = load_dataset(opts['dataset_name'], **opts['ds_opts'])\n",
    "    ds_out = pipeline.transform(ds.data)\n",
    "    ds_out.dump(ds_stub)\n",
    "\n",
    "Dataset.load(file_stub)"
   ]
  },
  {
   "cell_type": "markdown",
   "metadata": {},
   "source": [
    "The **name** field can be used to indicate the type of datafile being downloaded. Usually, this is just informational. However, if you specify names `DESCR` or `LICENSE`, the downloaded (text) file will be used as the dataset description and license text, respectively.\n",
    "\n",
    "Usually you will want to give these unique names, so they don't clash with other downloaded files. (e.g. \"LICENSE.txt\" is a terrible name to use). We use the **file_name** option for this:"
   ]
  },
  {
   "cell_type": "markdown",
   "metadata": {},
   "source": [
    "### Adding a License and Description"
   ]
  },
  {
   "cell_type": "markdown",
   "metadata": {},
   "source": [
    "Every dataset should have an associated **license** and **description**. These are stored as `LICENSE` and `DESCR` attributes respectively.\n",
    "\n",
    "There are 3 typical ways to add license and description text:\n",
    "* Download textfiles from somewhere on the Internet, and using the `name` parameter in `build_dataset_dict` to tag them as either `LICENSE` or `DESCR`\n",
    "* Create a `{dataset_name}.license`, or `{dataset_name}.readme` in `src/data`. When a dataset matching this\n",
    "name is created, this information will automatically be used, or\n",
    "* specify the text directly using `from_txt` in `build_dataset_dict()`"
   ]
  },
  {
   "cell_type": "markdown",
   "metadata": {},
   "source": [
    "#### Adding A License File\n",
    "\n",
    "In this case, the license is available from https://s3-media1.fl.yelpcdn.com/assets/srv0/engineering_pages/06cb5ad91db8/assets/vendor/yelp-dataset-agreement.pdf\n",
    "\n",
    "we can write this to a textfile directly"
   ]
  },
  {
   "cell_type": "code",
   "execution_count": 7,
   "metadata": {},
   "outputs": [
    {
     "name": "stdout",
     "output_type": "stream",
     "text": [
      "Overwriting ../src/data/yelp.license\n"
     ]
    }
   ],
   "source": [
    "%%writefile ../src/data/yelp.license\n",
    "YELP DATASET TERMS OF USE\n",
    "\n",
    "Last Updated: July 26, 2018\n",
    "This document governs the terms under which you may access and use the data that Yelp\n",
    "makes available for download through this website (or made available by other means) for\n",
    "academic purposes (the “Data”). This document incorporates the terms of the following\n",
    "additional document, including all future amendments or modifications thereto (collectively, and\n",
    "together with this document, the “Data Agreement” ):\n",
    "\n",
    "Yelp Terms of Service:\n",
    "\n",
    "By accessing or using the Data, you agree to be bound by the Data Agreement and represent\n",
    "that the contact information you provide to Yelp is correct. If you access or use the Data on\n",
    "behalf of a university, school, or other entity, you represent that you have authority to bind such\n",
    "entity and its affiliates to the Data Agreement and that it is fully binding upon them. In such\n",
    "case, the term “you” and “your” will refer to such entity and its affiliates. If you do not have\n",
    "authority, or if you do not agree with the terms of the Data Agreement, you may not access or\n",
    "use the Data. You should read and keep a copy of each component of the Data Agreement for\n",
    "your records. In the event of a conflict among them, the terms of this document will control.\n",
    "\n",
    "1. Purpose\n",
    "\n",
    "The Data is made available by Yelp Inc. (“Yelp”) to enable you to access valuable\n",
    "local information to develop an academic project as part of an ongoing course of study. With this\n",
    "in mind, Yelp reserves the right to continually review and evaluate all uses of the Data provided\n",
    "under the Data Agreement.\n",
    "\n",
    "2. Changes\n",
    "\n",
    "Yelp reserves the right to modify or revise the Data Agreement at any time. If the\n",
    "change is deemed to be material and it is foreseeable that such change could be adverse to\n",
    "your interests, Yelp will provide you notice of the change to this Data Agreement by sending you\n",
    "an email to the email you provided to Yelp. Your continued use of the Data after the notice of\n",
    "material change will constitute your acceptance of and agreement to such changes. \n",
    "\n",
    "If YOU DO\n",
    "NOT WISH TO BE BOUND TO ANY NEW TERMS, YOU MUST TERMINATE THE DATA\n",
    "AGREEMENT BY IMMEDIATELY CEASING USE OF THE DATA AND DELETING IT FROM\n",
    "ANY SYSTEMS OR MEDIA.\n",
    "\n",
    "3. License\n",
    "\n",
    "Subject to the terms set forth in the Data Agreement (specifically the restrictions set\n",
    "forth in Section 4 below), Yelp grants you a royalty-free, non-exclusive, revocable,\n",
    "non-sublicensable, non-transferable, fully paid-up right and license during the Term to use,\n",
    "access, and create derivative works of the Data in electronic form for academic purposes only.\n",
    "You may not use the Data for any other purpose without Yelp’s prior written consent. You\n",
    "acknowledge and agree that Yelp may request information about, review, audit, and/or monitor\n",
    "your use of the Data at any time in order to confirm compliance with the Data Agreement.\n",
    "Nothing herein shall be construed as a license to use Yelp’s registered trademarks or service\n",
    "marks, or any other Yelp branding.\n",
    "\n",
    "4. Restrictions\n",
    "\n",
    "You agree that you will not, and will not encourage, assist, or enable others to:\n",
    "A. display, perform, or distribute any of the Data, or use the Data to update or create\n",
    "your own business listing information (i.e. you may not publicly display any of the Data to any\n",
    "third party, especially reviews and other user generated content, as this is a private data set\n",
    "challenge and not a license to compete with or disparage with Yelp);\n",
    "B. use the Data in connection with any commercial purpose;\n",
    "C. use the Data in any manner or for any purpose that may violate any law or regulation,\n",
    "or any right of any person including, but not limited to, intellectual property rights, rights of\n",
    "privacy and/or rights of personality, or which otherwise may be harmful (in Yelp's sole\n",
    "discretion) to Yelp, its providers, its suppliers, end users of this website, or your end users;\n",
    "D. use the Data on behalf of any third party without Yelp’s consent;\n",
    "E. create, redistribute or disclose any summary of, or metrics related to, the Data (e.g.,\n",
    "the number of reviewed business included in the Data and other statistical analysis) to any third\n",
    "party or on any website or other electronic media not expressly covered by this Agreement, this\n",
    "provision however, excludes any disclosures necessary for academic purposes, including\n",
    "without limitation the publication of academic articles concerning your use of the Data;\n",
    "F. use the Data in a manner that is competitive in nature with Yelp;\n",
    "G. display Data in a manner that could reasonably imply an endorsement, relationship or\n",
    "affiliation with or sponsorship between you or a third party and Yelp, other than your permitted\n",
    "use of the Data under the terms of the Data Agreement;\n",
    "H. rent, lease, sell, transfer, assign, or sublicense, any part of the Data;\n",
    "I. modify, rate, rank, review, vote or comment on, or otherwise respond to the content\n",
    "contained in the Data;\n",
    "J. display the Data or publicly communicate in any way, or on any site, in a manner that\n",
    "disparages Yelp or its products or services, or infringes any Yelp intellectual property or other\n",
    "rights;\n",
    "K. use the Data in a manner that could reasonably be interpreted to suggest that Yelp is\n",
    "the author or entity that is responsible, in whole or in part, for the creation or development of any\n",
    "Data or that such Data represents the views of Yelp; or\n",
    "L. use the Data for any purpose prohibited by law.\n",
    "\n",
    "5. Ownership\n",
    "\n",
    "As between you and Yelp, the Data and any derivative works you create from the\n",
    "Data, and all intellectual property rights contained in the foregoing, are and will at all times\n",
    "remain the sole and exclusive property of Yelp and are protected by applicable intellectual\n",
    "property laws and treaties (whether those rights happen to be registered or not, and wherever in\n",
    "the world those rights may exist), or as otherwise set forth in the contest rules where the various\n",
    "submitted solutions must be made available under a specified open source license, such as the\n",
    "MIT License.\n",
    "\n",
    "6. Indemnity\n",
    "\n",
    "You agree that your use of the Data is at your own risk and you agree to hold\n",
    "harmless, defend (subject to Yelp's right to participate with counsel it selects) and indemnify\n",
    "Yelp and its subsidiaries, affiliates, officers, agents, employees and suppliers from and against\n",
    "any and all claims, damages, liabilities, costs and fees (including reasonable attorneys’ fee)\n",
    "arising from, or in any way related to your or your end users’ use or implementation of the Data.\n",
    "You will not agree to any settlement that imposes any obligation on Yelp without Yelp's prior\n",
    "consent.\n",
    "                  \n",
    "7. No Warranties by Yelp; No Entitlement to Support from Yelp\n",
    "\n",
    "THE DATA IS PROVIDED\n",
    "“AS IS”, “WITH ALL FAULTS” AND “AS AVAILABLE” WITHOUT WARRANTY, OF ANY KIND\n",
    "AND AT YOUR SOLE RISK. EXCEPT TO THE MAXIMUM EXTENT REQUIRED BY\n",
    "APPLICABLE LAW, YELP DISCLAIMS ALL WARRANTIES, REPRESENTATIONS,\n",
    "CONDITIONS, AND DUTIES, WHETHER EXPRESS, IMPLIED OR STATUTORY,\n",
    "REGARDING THE DATA, INCLUDING, WITHOUT LIMITATION, ANY AND ALL IMPLIED\n",
    "WARRANTIES OF MERCHANTABILITY, ACCURACY, RESULTS OF USE, RELIABILITY,\n",
    "FITNESS FOR A PARTICULAR PURPOSE, TITLE, INTERFERENCE WITH QUIET\n",
    "ENJOYMENT AND NON-INFRINGEMENT OF THIRD-PARTY RIGHTS. FURTHER, YELP\n",
    "DISCLAIMS ANY WARRANTY THAT YOUR USE OF THE DATA WILL BE UNINTERRUPTED,\n",
    "SECURE, TIMELY OR ERROR FREE. FOR THE AVOIDANCE OF DOUBT, YOU\n",
    "ACKNOWLEDGE AND AGREE THAT THE DATA AGREEMENT DOES NOT ENTITLE YOU\n",
    "TO ANY SUPPORT FOR THE DATA. NO ADVICE OR INFORMATION, WHETHER ORAL OR\n",
    "IN WRITING, OBTAINED BY YOU FROM YELP WILL CREATE ANY WARRANTY NOT\n",
    "EXPRESSLY STATED IN THE DATA AGREEMENT.\n",
    "\n",
    "8. Limitation of Liability\n",
    "\n",
    "THE DATA IS BEING PROVIDED FREE OF CHARGE.\n",
    "ACCORDINGLY, YOU AGREE THAT YELP SHALL HAVE NO LIABILITY ARISING FROM OR\n",
    "BASED ON YOUR USE OF THE DATA. REGARDLESS OF WHETHER ANY REMEDY SET\n",
    "FORTH HEREIN FAILS OF ITS ESSENTIAL PURPOSE OR OTHERWISE, AND EXCEPT FOR\n",
    "BODILY INJURY, IN NO EVENT SHALL YELP OR ITS SUBSIDIARIES, AFFILIATES,\n",
    "OFFICERS, AGENTS, EMPLOYEES AND SUPPLIERS BE LIABLE TO YOU OR TO ANY\n",
    "THIRD PARTY UNDER ANY TORT, CONTRACT, NEGLIGENCE, STRICT LIABILITY OR\n",
    "OTHER LEGAL OR EQUITABLE THEORY FOR ANY LOST PROFITS, LOST OR\n",
    "CORRUPTED DATA, COMPUTER FAILURE OR MALFUNCTION, INTERRUPTION OF\n",
    "BUSINESS, OR OTHER SPECIAL, INDIRECT, INCIDENTAL OR CONSEQUENTIAL\n",
    "DAMAGES OF ANY KIND ARISING OUT OF THE USE OR INABILITY TO USE THE DATA,\n",
    "EVEN IF YELP HAS BEEN ADVISED OF THE POSSIBILITY OF SUCH LOSS OR DAMAGES\n",
    "AND WHETHER OR NOT SUCH LOSS OR DAMAGES ARE FORESEEABLE. ANY CLAIM\n",
    "ARISING OUT OF OR RELATING TO THE DATA AGREEMENT MUST BE BROUGHT WITHIN\n",
    "(1) YEAR AFTER THE OCCURRENCE OF THE EVENT GIVING RISE TO SUCH CLAIM. IF\n",
    "SUCH CLAIM IS NOT FILED, THEN THAT CLAIM IS PERMANENTLY BARRED. THIS\n",
    "APPLIES TO YOU AND YOUR SUCCESSORS, AND TO YELP AND ITS SUCCESSORS.\n",
    "NOTWITHSTANDING THE FOREGOING, SINCE THIS LICENSE IS PROVIDED TO YOU AT\n",
    "NO CHARGE, YELP’S MAXIMUM LIABILITY UNDER THIS DATA AGREEMENT SHALL NOT,\n",
    "IN ANY EVENT, EXCEED US$50.00.\n",
    "\n",
    "9. Limited Relationship\n",
    "                  \n",
    "Yelp and You are, and will remain, independent contractors, and\n",
    "nothing in the Data Agreement will be construed as creating an employer-employee\n",
    "relationship, partnership or joint venture. Although you are permitted to publicize your use of the\n",
    "Data, you agree not to make any other statements, without the prior written consent of Yelp,\n",
    "implying a different kind of relationship between you and Yelp, including any implied\n",
    "endorsement by Yelp. You do not have any authority of any kind to bind Yelp in any respect\n",
    "whatsoever.\n",
    "\n",
    "10. Term and Termination\n",
    "                  \n",
    "This Data Agreement is effective as of the date you download or\n",
    "otherwise access the Data (“Effective Date” ) and shall continue in full force and effect for a term\n",
    "of twelve (12) months from the Effective Date, unless earlier terminated by the parties or expires\n",
    "in accordance with this Section 11 (the “Term”). Either party may immediately terminate this\n",
    "Data Agreement, for any reason or for no reason, by providing written notice to the other party.\n",
    "Yelp will provide notice of termination to the email account you provided to Yelp during\n",
    "registration and termination will be effective upon delivery of the email notice. Yelp reserves the\n",
    "right, in its sole discretion (for any reason or for no reason) and at any time without notice to\n",
    "you, to change, suspend or discontinue the Data and/or suspend or terminate your further\n",
    "access to the Data. Any termination of the Data Agreement will also immediately terminate the\n",
    "licenses granted to you hereunder. Upon any termination of the Data Agreement, you will\n",
    "promptly: (i) delete and remove all Data from any location, including any web pages, scripts,\n",
    "widgets, applications and any other software in your possession or under your control; (ii)\n",
    "destroy and remove from all computers, hard drives, networks and other storage media in your\n",
    "possession or under your control all copies of any Data; and (iii) upon Yelp’s request, certify in\n",
    "writing to Yelp that such actions have been taken.\n",
    "\n",
    "11. Miscellaneous\n",
    "                  \n",
    "The Data Agreement encompasses the entire agreement between you and\n",
    "Yelp regarding the subject matter discussed therein. The Data Agreement, and any disputes\n",
    "arising from or relating to the interpretation thereof, will be governed by and construed under the\n",
    "laws of the State of California without regard to its conflict of law provisions. You agree to\n",
    "personal jurisdiction by and venue in the state and federal courts of the State of California, City\n",
    "of San Francisco. The failure of Yelp to exercise or enforce any right or provision of the Data\n",
    "Agreement will not constitute a waiver of such right or provision. The failure of either party to\n",
    "exercise in any respect any right provided for herein will not be deemed a waiver of any further\n",
    "rights hereunder. If any provision of the Data Agreement is found to be unenforceable or invalid,\n",
    "that provision will be replaced with terms that most closely match the intent of the provision that\n",
    "is not enforceable to the minimum extent necessary so that the remaining Data Agreement will\n",
    "otherwise remain in full force and effect and enforceable. The Data Agreement is not\n",
    "assignable, transferable or sublicensable, in whole or in part, by you except with Yelp's prior\n",
    "written consent. Any attempt to do so is void. Yelp may assign the Data Agreement, in whole or\n",
    "in part, at any time with or without notice to you. The section titles in the Data Agreement are for\n",
    "convenience only and have no legal or contractual effect.\n",
    "\n",
    "12. Survival \n",
    "\n",
    "Sections 4 through 13 will survive any expiration or termination of this Data\n",
    "Agreement for any reason.\n",
    "\n",
    "13.  Contact and Violations\n",
    "                  \n",
    "Please contact Yelp with any questions regarding the Data\n",
    "Agreement. Please report any violations of the Data Agreement couvidat@yelp.com.\n"
   ]
  },
  {
   "cell_type": "markdown",
   "metadata": {},
   "source": [
    "The other thing we can do is just save the text to a string, and add it using `from_txt`:"
   ]
  },
  {
   "cell_type": "code",
   "execution_count": 8,
   "metadata": {},
   "outputs": [],
   "source": [
    "readme_txt = '''\n",
    "Yelp Dataset JSON\n",
    "\n",
    "Each file is composed of a single object type, one JSON-object per-line.\n",
    "\n",
    "Take a look at some examples to get you started: https://github.com/Yelp/dataset-examples.\n",
    "\n",
    "Note: the follow examples contain inline comments, which are technically not valid JSON. This is done here to simplify the documentation and explaining the structure, the JSON files you download will not contain any comments and will be fully valid JSON.\n",
    "business.json\n",
    "\n",
    "Contains business data including location data, attributes, and categories.\n",
    "\n",
    "{\n",
    "    // string, 22 character unique string business id\n",
    "    \"business_id\": \"tnhfDv5Il8EaGSXZGiuQGg\",\n",
    "\n",
    "    // string, the business's name\n",
    "    \"name\": \"Garaje\",\n",
    "\n",
    "    // string, the neighborhood's name\n",
    "    \"neighborhood\": \"SoMa\",\n",
    "\n",
    "    // string, the full address of the business\n",
    "    \"address\": \"475 3rd St\",\n",
    "\n",
    "    // string, the city\n",
    "    \"city\": \"San Francisco\",\n",
    "\n",
    "    // string, 2 character state code, if applicable\n",
    "    \"state\": \"CA\",\n",
    "\n",
    "    // string, the postal code\n",
    "    \"postal code\": \"94107\",\n",
    "\n",
    "    // float, latitude\n",
    "    \"latitude\": 37.7817529521,\n",
    "\n",
    "    // float, longitude\n",
    "    \"longitude\": -122.39612197,\n",
    "\n",
    "    // float, star rating, rounded to half-stars\n",
    "    \"stars\": 4.5,\n",
    "\n",
    "    // interger, number of reviews\n",
    "    \"review_count\": 1198,\n",
    "\n",
    "    // integer, 0 or 1 for closed or open, respectively\n",
    "    \"is_open\": 1,\n",
    "\n",
    "    // object, business attributes to values. note: some attribute values might be objects\n",
    "    \"attributes\": {\n",
    "        \"RestaurantsTakeOut\": true,\n",
    "        \"BusinessParking\": {\n",
    "            \"garage\": false,\n",
    "            \"street\": true,\n",
    "            \"validated\": false,\n",
    "            \"lot\": false,\n",
    "            \"valet\": false\n",
    "        },\n",
    "    },\n",
    "\n",
    "    // an array of strings of business categories\n",
    "    \"categories\": [\n",
    "        \"Mexican\",\n",
    "        \"Burgers\",\n",
    "        \"Gastropubs\"\n",
    "    ],\n",
    "\n",
    "    // an object of key day to value hours, hours are using a 24hr clock\n",
    "    \"hours\": {\n",
    "        \"Monday\": \"10:00-21:00\",\n",
    "        \"Tuesday\": \"10:00-21:00\",\n",
    "        \"Friday\": \"10:00-21:00\",\n",
    "        \"Wednesday\": \"10:00-21:00\",\n",
    "        \"Thursday\": \"10:00-21:00\",\n",
    "        \"Sunday\": \"11:00-18:00\",\n",
    "        \"Saturday\": \"10:00-21:00\"\n",
    "    }\n",
    "}\n",
    "\n",
    "review.json\n",
    "\n",
    "Contains full review text data including the user_id that wrote the review and the business_id the review is written for.\n",
    "\n",
    "{\n",
    "    // string, 22 character unique review id\n",
    "    \"review_id\": \"zdSx_SD6obEhz9VrW9uAWA\",\n",
    "\n",
    "    // string, 22 character unique user id, maps to the user in user.json\n",
    "    \"user_id\": \"Ha3iJu77CxlrFm-vQRs_8g\",\n",
    "\n",
    "    // string, 22 character business id, maps to business in business.json\n",
    "    \"business_id\": \"tnhfDv5Il8EaGSXZGiuQGg\",\n",
    "\n",
    "    // integer, star rating\n",
    "    \"stars\": 4,\n",
    "\n",
    "    // string, date formatted YYYY-MM-DD\n",
    "    \"date\": \"2016-03-09\",\n",
    "\n",
    "    // string, the review itself\n",
    "    \"text\": \"Great place to hang out after work: the prices are decent, and the ambience is fun. It's a bit loud, but very lively. The staff is friendly, and the food is good. They have a good selection of drinks.\",\n",
    "\n",
    "    // integer, number of useful votes received\n",
    "    \"useful\": 0,\n",
    "\n",
    "    // integer, number of funny votes received\n",
    "    \"funny\": 0,\n",
    "\n",
    "    // integer, number of cool votes received\n",
    "    \"cool\": 0\n",
    "}\n",
    "\n",
    "user.json\n",
    "\n",
    "User data including the user's friend mapping and all the metadata associated with the user.\n",
    "\n",
    "{\n",
    "    // string, 22 character unique user id, maps to the user in user.json\n",
    "    \"user_id\": \"Ha3iJu77CxlrFm-vQRs_8g\",\n",
    "\n",
    "    // string, the user's first name\n",
    "    \"name\": \"Sebastien\",\n",
    "\n",
    "    // integer, the number of reviews they've written\n",
    "    \"review_count\": 56,\n",
    "\n",
    "    // string, when the user joined Yelp, formatted like YYYY-MM-DD\n",
    "    \"yelping_since\": \"2011-01-01\",\n",
    "\n",
    "    // array of strings, an array of the user's friend as user_ids\n",
    "    \"friends\": [\n",
    "        \"wqoXYLWmpkEH0YvTmHBsJQ\",\n",
    "        \"KUXLLiJGrjtSsapmxmpvTA\",\n",
    "        \"6e9rJKQC3n0RSKyHLViL-Q\"\n",
    "    ],\n",
    "\n",
    "    // integer, number of useful votes sent by the user\n",
    "    \"useful\": 21,\n",
    "\n",
    "    // integer, number of funny votes sent by the user\n",
    "    \"funny\": 88,\n",
    "\n",
    "    // integer, number of cool votes sent by the user\n",
    "    \"cool\": 15,\n",
    "\n",
    "    // integer, number of fans the user has\n",
    "    \"fans\": 1032,\n",
    "\n",
    "    // array of integers, the years the user was elite\n",
    "    \"elite\": [\n",
    "        2012,\n",
    "        2013\n",
    "    ],\n",
    "\n",
    "    // float, average rating of all reviews\n",
    "    \"average_stars\": 4.31,\n",
    "\n",
    "    // integer, number of hot compliments received by the user\n",
    "    \"compliment_hot\": 339,\n",
    "\n",
    "    // integer, number of more compliments received by the user\n",
    "    \"compliment_more\": 668,\n",
    "\n",
    "    // integer, number of profile compliments received by the user\n",
    "    \"compliment_profile\": 42,\n",
    "\n",
    "    // integer, number of cute compliments received by the user\n",
    "    \"compliment_cute\": 62,\n",
    "\n",
    "    // integer, number of list compliments received by the user\n",
    "    \"compliment_list\": 37,\n",
    "\n",
    "    // integer, number of note compliments received by the user\n",
    "    \"compliment_note\": 356,\n",
    "\n",
    "    // integer, number of plain compliments received by the user\n",
    "    \"compliment_plain\": 68,\n",
    "\n",
    "    // integer, number of cool compliments received by the user\n",
    "    \"compliment_cool\": 91,\n",
    "\n",
    "    // integer, number of funny compliments received by the user\n",
    "    \"compliment_funny\": 99,\n",
    "\n",
    "    // integer, number of writer compliments received by the user\n",
    "    \"compliment_writer\": 95,\n",
    "\n",
    "    // integer, number of photo compliments received by the user\n",
    "    \"compliment_photos\": 50\n",
    "}\n",
    "\n",
    "checkin.json\n",
    "\n",
    "Checkins on a business.\n",
    "\n",
    "{\n",
    "    // nested object of the day of the week with key of\n",
    "    // the hour (using a 24hr clock) with the count of checkins\n",
    "    // for that hour (e.g. 14:00 - 14:59).\n",
    "    \"time\": {\n",
    "        \"Wednesday\": {\n",
    "            \"14:00\": 2,\n",
    "            \"16:00\": 1,\n",
    "            \"2:00\": 1,\n",
    "            \"0:00\": 1\n",
    "        },\n",
    "        \"Sunday\": {\n",
    "            \"16:00\": 8,\n",
    "            \"14:00\": 3,\n",
    "            \"15:00\": 3,\n",
    "            \"13:00\": 1,\n",
    "            \"18:00\": 2,\n",
    "            \"23:00\": 1,\n",
    "            \"21:00\": 1,\n",
    "            \"17:00\": 2\n",
    "        },\n",
    "        \"Friday\": {\n",
    "            \"16:00\": 1,\n",
    "            \"13:00\": 1,\n",
    "            \"11:00\": 2,\n",
    "            \"23:00\": 2\n",
    "        },\n",
    "    },\n",
    "\n",
    "    // string, 22 character business id, maps to business in business.json\n",
    "    \"business_id\": \"tnhfDv5Il8EaGSXZGiuQGg\"\n",
    "}\n",
    "\n",
    "tip.json\n",
    "\n",
    "Tips written by a user on a business. Tips are shorter than reviews and tend to convey quick suggestions.\n",
    "\n",
    "{\n",
    "    // string, text of the tip\n",
    "    \"text\": \"Secret menu - fried chicken sando is da bombbbbbb Their zapatos are good too.\",\n",
    "\n",
    "    // string, when the tip was written, formatted like YYYY-MM-DD\n",
    "    \"date\": \"2013-09-20\",\n",
    "\n",
    "    // integer, how many likes it has\n",
    "    \"likes\": 172,\n",
    "\n",
    "    // string, 22 character business id, maps to business in business.json\n",
    "    \"business_id\": \"tnhfDv5Il8EaGSXZGiuQGg\",\n",
    "\n",
    "    // string, 22 character unique user id, maps to the user in user.json\n",
    "    \"user_id\": \"49JhAJh8vSQ-vM4Aourl0g\"\n",
    "}\n",
    "\n",
    "photo.json\n",
    "\n",
    "Contains photo data including the caption and classification (one of \"food\", \"drink\", \"menu\", \"inside\" or \"outside\").\n",
    "\n",
    "{\n",
    "    // string, 22 character unique photo id\n",
    "    \"photo_id\": \"_nN_DhLXkfwEkwPNxne9hw\",\n",
    "\n",
    "\n",
    "    // string, 22 character business id, maps to business in business.json\n",
    "    \"business_id\" : \"tnhfDv5Il8EaGSXZGiuQGg\",\n",
    "\n",
    "    // string, the photo caption, if any\n",
    "    \"caption\" : \"carne asada fries\",\n",
    "\n",
    "    // string, the category the photo belongs to, if any\n",
    "    \"label\" : \"food\"\n",
    "}\n",
    "'''\n"
   ]
  },
  {
   "cell_type": "markdown",
   "metadata": {},
   "source": [
    "Next, we combine the complete set of files into a URL list and use this to build our json file entry. In our case, just the 1 file"
   ]
  },
  {
   "cell_type": "code",
   "execution_count": 9,
   "metadata": {},
   "outputs": [
    {
     "data": {
      "text/plain": [
       "[{'name': None,\n",
       "  'file_name': 'yelp_dataset.tar.gz',\n",
       "  'hash_type': 'sha1',\n",
       "  'hash_value': '096ac5ced8a9229ecc5116e77b6be8d8f90fdacb'}]"
      ]
     },
     "execution_count": 9,
     "metadata": {},
     "output_type": "execute_result"
    }
   ],
   "source": [
    "url_list = [rawdata]; url_list\n"
   ]
  },
  {
   "cell_type": "code",
   "execution_count": 10,
   "metadata": {},
   "outputs": [],
   "source": [
    "url_list += [build_dataset_dict(from_txt=readme_txt, \n",
    "                                file_name=f'{dataset_name}.readme', name='DESCR')]"
   ]
  },
  {
   "cell_type": "markdown",
   "metadata": {},
   "source": [
    "### datasets.json\n",
    "The current list of datasets is stored in `datasets.json`, by default in `src/data/`\n",
    "\n",
    "We can add the url list using `add_datasets_by_urllist`"
   ]
  },
  {
   "cell_type": "code",
   "execution_count": 11,
   "metadata": {},
   "outputs": [],
   "source": [
    "newds_dict = datasets.add_dataset_by_urllist(dataset_name, url_list)"
   ]
  },
  {
   "cell_type": "markdown",
   "metadata": {},
   "source": [
    "See that a generic `load_function` (`new_dataset`) has been used to process the data. This does nothing more than populates the DESCR and LICENSE fields (if possible), creating an otherwise empty `Dataset` object"
   ]
  },
  {
   "cell_type": "code",
   "execution_count": 12,
   "metadata": {},
   "outputs": [],
   "source": [
    "dset = load_dataset(dataset_name)"
   ]
  },
  {
   "cell_type": "code",
   "execution_count": 13,
   "metadata": {},
   "outputs": [
    {
     "name": "stdout",
     "output_type": "stream",
     "text": [
      "YELP DATASET TERMS OF USE\n",
      "\n",
      "Last Updated: July 26, 2018\n",
      "This document governs the terms under which you may access and use the data that Yelp\n",
      "makes available for download through this website (or made available by other means) for\n",
      "academic purposes (the “Data”). This document incorporates the terms of the following\n",
      "additional document, including all future amendments or modifications thereto (collectively, and\n",
      "together with this document, the “Data Agreement” ):\n",
      "\n",
      "Yelp Terms of Service:\n",
      "\n",
      "By accessing or using the Data, you agree to be bound by the Data Agreement and represent\n",
      "that the contact information you provide to Yelp is correct. If you access or use the Data on\n",
      "behalf of a university, school, or other entity, you represent that you have authority to bind such\n",
      "entity and its affiliates to the Data Agreement and that it is fully binding upon them. In such\n",
      "case, the term “you” and “your” will refer to such entity and its affiliates. If you do not have\n",
      "authority, or if you do not agree with the terms of the Data Agreement, you may not access or\n",
      "use the Data. You should read and keep a copy of each component of the Data Agreement for\n",
      "your records. In the event of a conflict among them, the terms of this document will control.\n",
      "\n",
      "1. Purpose\n",
      "\n",
      "The Data is made available by Yelp Inc. (“Yelp”) to enable you to access valuable\n",
      "local information to develop an academic project as part of an ongoing course of study. With this\n",
      "in mind, Yelp reserves the right to continually review and evaluate all uses of the Data provided\n",
      "under the Data Agreement.\n",
      "\n",
      "2. Changes\n",
      "\n",
      "Yelp reserves the right to modify or revise the Data Agreement at any time. If the\n",
      "change is deemed to be material and it is foreseeable that such change could be adverse to\n",
      "your interests, Yelp will provide you notice of the change to this Data Agreement by sending you\n",
      "an email to the email you provided to Yelp. Your continued use of the Data after the notice of\n",
      "material change will constitute your acceptance of and agreement to such changes. \n",
      "\n",
      "If YOU DO\n",
      "NOT WISH TO BE BOUND TO ANY NEW TERMS, YOU MUST TERMINATE THE DATA\n",
      "AGREEMENT BY IMMEDIATELY CEASING USE OF THE DATA AND DELETING IT FROM\n",
      "ANY SYSTEMS OR MEDIA.\n",
      "\n",
      "3. License\n",
      "\n",
      "Subject to the terms set forth in the Data Agreement (specifically the restrictions set\n",
      "forth in Section 4 below), Yelp grants you a royalty-free, non-exclusive, revocable,\n",
      "non-sublicensable, non-transferable, fully paid-up right and license during the Term to use,\n",
      "access, and create derivative works of the Data in electronic form for academic purposes only.\n",
      "You may not use the Data for any other purpose without Yelp’s prior written consent. You\n",
      "acknowledge and agree that Yelp may request information about, review, audit, and/or monitor\n",
      "your use of the Data at any time in order to confirm compliance with the Data Agreement.\n",
      "Nothing herein shall be construed as a license to use Yelp’s registered trademarks or service\n",
      "marks, or any other Yelp branding.\n",
      "\n",
      "4. Restrictions\n",
      "\n",
      "You agree that you will not, and will not encourage, assist, or enable others to:\n",
      "A. display, perform, or distribute any of the Data, or use the Data to update or create\n",
      "your own business listing information (i.e. you may not publicly display any of the Data to any\n",
      "third party, especially reviews and other user generated content, as this is a private data set\n",
      "challenge and not a license to compete with or disparage with Yelp);\n",
      "B. use the Data in connection with any commercial purpose;\n",
      "C. use the Data in any manner or for any purpose that may violate any law or regulation,\n",
      "or any right of any person including, but not limited to, intellectual property rights, rights of\n",
      "privacy and/or rights of personality, or which otherwise may be harmful (in Yelp's sole\n",
      "discretion) to Yelp, its providers, its suppliers, end users of this website, or your end users;\n",
      "D. use the Data on behalf of any third party without Yelp’s consent;\n",
      "E. create, redistribute or disclose any summary of, or metrics related to, the Data (e.g.,\n",
      "the number of reviewed business included in the Data and other statistical analysis) to any third\n",
      "party or on any website or other electronic media not expressly covered by this Agreement, this\n",
      "provision however, excludes any disclosures necessary for academic purposes, including\n",
      "without limitation the publication of academic articles concerning your use of the Data;\n",
      "F. use the Data in a manner that is competitive in nature with Yelp;\n",
      "G. display Data in a manner that could reasonably imply an endorsement, relationship or\n",
      "affiliation with or sponsorship between you or a third party and Yelp, other than your permitted\n",
      "use of the Data under the terms of the Data Agreement;\n",
      "H. rent, lease, sell, transfer, assign, or sublicense, any part of the Data;\n",
      "I. modify, rate, rank, review, vote or comment on, or otherwise respond to the content\n",
      "contained in the Data;\n",
      "J. display the Data or publicly communicate in any way, or on any site, in a manner that\n",
      "disparages Yelp or its products or services, or infringes any Yelp intellectual property or other\n",
      "rights;\n",
      "K. use the Data in a manner that could reasonably be interpreted to suggest that Yelp is\n",
      "the author or entity that is responsible, in whole or in part, for the creation or development of any\n",
      "Data or that such Data represents the views of Yelp; or\n",
      "L. use the Data for any purpose prohibited by law.\n",
      "\n",
      "5. Ownership\n",
      "\n",
      "As between you and Yelp, the Data and any derivative works you create from the\n",
      "Data, and all intellectual property rights contained in the foregoing, are and will at all times\n",
      "remain the sole and exclusive property of Yelp and are protected by applicable intellectual\n",
      "property laws and treaties (whether those rights happen to be registered or not, and wherever in\n",
      "the world those rights may exist), or as otherwise set forth in the contest rules where the various\n",
      "submitted solutions must be made available under a specified open source license, such as the\n",
      "MIT License.\n",
      "\n",
      "6. Indemnity\n",
      "\n",
      "You agree that your use of the Data is at your own risk and you agree to hold\n",
      "harmless, defend (subject to Yelp's right to participate with counsel it selects) and indemnify\n",
      "Yelp and its subsidiaries, affiliates, officers, agents, employees and suppliers from and against\n",
      "any and all claims, damages, liabilities, costs and fees (including reasonable attorneys’ fee)\n",
      "arising from, or in any way related to your or your end users’ use or implementation of the Data.\n",
      "You will not agree to any settlement that imposes any obligation on Yelp without Yelp's prior\n",
      "consent.\n",
      "                  \n",
      "7. No Warranties by Yelp; No Entitlement to Support from Yelp\n",
      "\n",
      "THE DATA IS PROVIDED\n",
      "“AS IS”, “WITH ALL FAULTS” AND “AS AVAILABLE” WITHOUT WARRANTY, OF ANY KIND\n",
      "AND AT YOUR SOLE RISK. EXCEPT TO THE MAXIMUM EXTENT REQUIRED BY\n",
      "APPLICABLE LAW, YELP DISCLAIMS ALL WARRANTIES, REPRESENTATIONS,\n",
      "CONDITIONS, AND DUTIES, WHETHER EXPRESS, IMPLIED OR STATUTORY,\n",
      "REGARDING THE DATA, INCLUDING, WITHOUT LIMITATION, ANY AND ALL IMPLIED\n",
      "WARRANTIES OF MERCHANTABILITY, ACCURACY, RESULTS OF USE, RELIABILITY,\n",
      "FITNESS FOR A PARTICULAR PURPOSE, TITLE, INTERFERENCE WITH QUIET\n",
      "ENJOYMENT AND NON-INFRINGEMENT OF THIRD-PARTY RIGHTS. FURTHER, YELP\n",
      "DISCLAIMS ANY WARRANTY THAT YOUR USE OF THE DATA WILL BE UNINTERRUPTED,\n",
      "SECURE, TIMELY OR ERROR FREE. FOR THE AVOIDANCE OF DOUBT, YOU\n",
      "ACKNOWLEDGE AND AGREE THAT THE DATA AGREEMENT DOES NOT ENTITLE YOU\n",
      "TO ANY SUPPORT FOR THE DATA. NO ADVICE OR INFORMATION, WHETHER ORAL OR\n",
      "IN WRITING, OBTAINED BY YOU FROM YELP WILL CREATE ANY WARRANTY NOT\n",
      "EXPRESSLY STATED IN THE DATA AGREEMENT.\n",
      "\n",
      "8. Limitation of Liability\n",
      "\n",
      "THE DATA IS BEING PROVIDED FREE OF CHARGE.\n",
      "ACCORDINGLY, YOU AGREE THAT YELP SHALL HAVE NO LIABILITY ARISING FROM OR\n",
      "BASED ON YOUR USE OF THE DATA. REGARDLESS OF WHETHER ANY REMEDY SET\n",
      "FORTH HEREIN FAILS OF ITS ESSENTIAL PURPOSE OR OTHERWISE, AND EXCEPT FOR\n",
      "BODILY INJURY, IN NO EVENT SHALL YELP OR ITS SUBSIDIARIES, AFFILIATES,\n",
      "OFFICERS, AGENTS, EMPLOYEES AND SUPPLIERS BE LIABLE TO YOU OR TO ANY\n",
      "THIRD PARTY UNDER ANY TORT, CONTRACT, NEGLIGENCE, STRICT LIABILITY OR\n",
      "OTHER LEGAL OR EQUITABLE THEORY FOR ANY LOST PROFITS, LOST OR\n",
      "CORRUPTED DATA, COMPUTER FAILURE OR MALFUNCTION, INTERRUPTION OF\n",
      "BUSINESS, OR OTHER SPECIAL, INDIRECT, INCIDENTAL OR CONSEQUENTIAL\n",
      "DAMAGES OF ANY KIND ARISING OUT OF THE USE OR INABILITY TO USE THE DATA,\n",
      "EVEN IF YELP HAS BEEN ADVISED OF THE POSSIBILITY OF SUCH LOSS OR DAMAGES\n",
      "AND WHETHER OR NOT SUCH LOSS OR DAMAGES ARE FORESEEABLE. ANY CLAIM\n",
      "ARISING OUT OF OR RELATING TO THE DATA AGREEMENT MUST BE BROUGHT WITHIN\n",
      "(1) YEAR AFTER THE OCCURRENCE OF THE EVENT GIVING RISE TO SUCH CLAIM. IF\n",
      "SUCH CLAIM IS NOT FILED, THEN THAT CLAIM IS PERMANENTLY BARRED. THIS\n",
      "APPLIES TO YOU AND YOUR SUCCESSORS, AND TO YELP AND ITS SUCCESSORS.\n",
      "NOTWITHSTANDING THE FOREGOING, SINCE THIS LICENSE IS PROVIDED TO YOU AT\n",
      "NO CHARGE, YELP’S MAXIMUM LIABILITY UNDER THIS DATA AGREEMENT SHALL NOT,\n",
      "IN ANY EVENT, EXCEED US$50.00.\n",
      "\n",
      "9. Limited Relationship\n",
      "                  \n",
      "Yelp and You are, and will remain, independent contractors, and\n",
      "nothing in the Data Agreement will be construed as creating an employer-employee\n",
      "relationship, partnership or joint venture. Although you are permitted to publicize your use of the\n",
      "Data, you agree not to make any other statements, without the prior written consent of Yelp,\n",
      "implying a different kind of relationship between you and Yelp, including any implied\n",
      "endorsement by Yelp. You do not have any authority of any kind to bind Yelp in any respect\n",
      "whatsoever.\n",
      "\n",
      "10. Term and Termination\n",
      "                  \n",
      "This Data Agreement is effective as of the date you download or\n",
      "otherwise access the Data (“Effective Date” ) and shall continue in full force and effect for a term\n",
      "of twelve (12) months from the Effective Date, unless earlier terminated by the parties or expires\n",
      "in accordance with this Section 11 (the “Term”). Either party may immediately terminate this\n",
      "Data Agreement, for any reason or for no reason, by providing written notice to the other party.\n",
      "Yelp will provide notice of termination to the email account you provided to Yelp during\n",
      "registration and termination will be effective upon delivery of the email notice. Yelp reserves the\n",
      "right, in its sole discretion (for any reason or for no reason) and at any time without notice to\n",
      "you, to change, suspend or discontinue the Data and/or suspend or terminate your further\n",
      "access to the Data. Any termination of the Data Agreement will also immediately terminate the\n",
      "licenses granted to you hereunder. Upon any termination of the Data Agreement, you will\n",
      "promptly: (i) delete and remove all Data from any location, including any web pages, scripts,\n",
      "widgets, applications and any other software in your possession or under your control; (ii)\n",
      "destroy and remove from all computers, hard drives, networks and other storage media in your\n",
      "possession or under your control all copies of any Data; and (iii) upon Yelp’s request, certify in\n",
      "writing to Yelp that such actions have been taken.\n",
      "\n",
      "11. Miscellaneous\n",
      "                  \n",
      "The Data Agreement encompasses the entire agreement between you and\n",
      "Yelp regarding the subject matter discussed therein. The Data Agreement, and any disputes\n",
      "arising from or relating to the interpretation thereof, will be governed by and construed under the\n",
      "laws of the State of California without regard to its conflict of law provisions. You agree to\n",
      "personal jurisdiction by and venue in the state and federal courts of the State of California, City\n",
      "of San Francisco. The failure of Yelp to exercise or enforce any right or provision of the Data\n",
      "Agreement will not constitute a waiver of such right or provision. The failure of either party to\n",
      "exercise in any respect any right provided for herein will not be deemed a waiver of any further\n",
      "rights hereunder. If any provision of the Data Agreement is found to be unenforceable or invalid,\n",
      "that provision will be replaced with terms that most closely match the intent of the provision that\n",
      "is not enforceable to the minimum extent necessary so that the remaining Data Agreement will\n",
      "otherwise remain in full force and effect and enforceable. The Data Agreement is not\n",
      "assignable, transferable or sublicensable, in whole or in part, by you except with Yelp's prior\n",
      "written consent. Any attempt to do so is void. Yelp may assign the Data Agreement, in whole or\n",
      "in part, at any time with or without notice to you. The section titles in the Data Agreement are for\n",
      "convenience only and have no legal or contractual effect.\n",
      "\n",
      "12. Survival \n",
      "\n",
      "Sections 4 through 13 will survive any expiration or termination of this Data\n",
      "Agreement for any reason.\n",
      "\n",
      "13.  Contact and Violations\n",
      "                  \n",
      "Please contact Yelp with any questions regarding the Data\n",
      "Agreement. Please report any violations of the Data Agreement couvidat@yelp.com.\n"
     ]
    }
   ],
   "source": [
    "print(dset.LICENSE)"
   ]
  },
  {
   "cell_type": "code",
   "execution_count": 14,
   "metadata": {},
   "outputs": [
    {
     "data": {
      "text/plain": [
       "7282"
      ]
     },
     "execution_count": 14,
     "metadata": {},
     "output_type": "execute_result"
    }
   ],
   "source": [
    "len(dset.DESCR)"
   ]
  },
  {
   "cell_type": "markdown",
   "metadata": {},
   "source": [
    "Now, we haven't actually done anything with this raw dataset yet, other than download the raw data and set the license/description metadata.\n"
   ]
  },
  {
   "cell_type": "code",
   "execution_count": 15,
   "metadata": {},
   "outputs": [
    {
     "data": {
      "text/plain": [
       "(NoneType, NoneType)"
      ]
     },
     "execution_count": 15,
     "metadata": {},
     "output_type": "execute_result"
    }
   ],
   "source": [
    "type(dset.data), type(dset.target)"
   ]
  },
  {
   "cell_type": "markdown",
   "metadata": {},
   "source": [
    "## Processing the data\n",
    "The next step is to write an importer function that actually processes the data we will be using for this dataset - in our case, `process_yelp_data()`\n",
    "\n",
    "The important things to generate are `data` and `target` entries. A `metadata` is optional, but recommended if you want to save additional information about the dataset.\n",
    "\n",
    "Usually, this functionality gets bundled up into a function and added to `localdata.py`. The name (and module containing) this functionality is added to the appropriate entry in `datasets.py`\n"
   ]
  },
  {
   "cell_type": "code",
   "execution_count": 16,
   "metadata": {},
   "outputs": [],
   "source": [
    "# Unpack the file\n",
    "untar_dir = fetch_and_unpack(dataset_name)\n"
   ]
  },
  {
   "cell_type": "code",
   "execution_count": 17,
   "metadata": {},
   "outputs": [
    {
     "data": {
      "text/plain": [
       "PosixPath('/home/ava00088/src/devel/text_embedding/data/interim/yelp')"
      ]
     },
     "execution_count": 17,
     "metadata": {},
     "output_type": "execute_result"
    }
   ],
   "source": [
    "untar_dir"
   ]
  },
  {
   "cell_type": "code",
   "execution_count": 18,
   "metadata": {},
   "outputs": [
    {
     "data": {
      "text/plain": [
       "['._Dataset_Challenge_Dataset_Agreement.pdf',\n",
       " '._Yelp_Dataset_Challenge_Round_12.pdf',\n",
       " 'Dataset_Challenge_Dataset_Agreement.pdf',\n",
       " 'yelp.readme',\n",
       " 'yelp_academic_dataset_business.json',\n",
       " 'yelp_academic_dataset_checkin.json',\n",
       " 'yelp_academic_dataset_photo.json',\n",
       " 'yelp_academic_dataset_review.json',\n",
       " 'yelp_academic_dataset_tip.json',\n",
       " 'yelp_academic_dataset_user.json',\n",
       " 'Yelp_Dataset_Challenge_Round_12.pdf']"
      ]
     },
     "execution_count": 18,
     "metadata": {},
     "output_type": "execute_result"
    }
   ],
   "source": [
    "list_dir(untar_dir)"
   ]
  },
  {
   "cell_type": "code",
   "execution_count": 19,
   "metadata": {},
   "outputs": [
    {
     "data": {
      "text/plain": [
       "True"
      ]
     },
     "execution_count": 19,
     "metadata": {},
     "output_type": "execute_result"
    }
   ],
   "source": [
    "biz_file = untar_dir / 'yelp_academic_dataset_business.json'\n",
    "review_file = untar_dir / 'yelp_academic_dataset_review.json'\n",
    "\n",
    "biz_file.exists() and review_file.exists()"
   ]
  },
  {
   "cell_type": "markdown",
   "metadata": {},
   "source": [
    "Recall, our DESCR gives us a complete discription of the data format"
   ]
  },
  {
   "cell_type": "code",
   "execution_count": 20,
   "metadata": {},
   "outputs": [],
   "source": [
    "def yelp_json_to_df(filename):\n",
    "    \"\"\"Convert a yelp JSON file to a dataframe\n",
    "    \n",
    "    Yelp data consists of one json-object per line.\n",
    "    \n",
    "    Parameters\n",
    "    ----------\n",
    "    \n",
    "    Returns\n",
    "    -------\n",
    "    dataframe corresponding to the file\n",
    "    \"\"\"\n",
    "    with open(filename, 'r') as f:\n",
    "        data = f.readlines()\n",
    "\n",
    "    # remove the trailing CR from each line\n",
    "    data = map(lambda x: x.rstrip(), data)\n",
    "\n",
    "    # Pack it up as a json list\n",
    "    data_json_str = \"[\" + ','.join(data) + \"]\"\n",
    "\n",
    "    # and load it into pandas\n",
    "    df = pd.read_json(data_json_str)\n",
    "    return df"
   ]
  },
  {
   "cell_type": "code",
   "execution_count": 21,
   "metadata": {},
   "outputs": [
    {
     "name": "stdout",
     "output_type": "stream",
     "text": [
      "CPU times: user 30.9 s, sys: 4.03 s, total: 34.9 s\n",
      "Wall time: 52.3 s\n"
     ]
    }
   ],
   "source": [
    "%%time\n",
    "k = 100000\n",
    "sample = reservoir_sample(review_file, k)\n",
    "data_json_str = \"[\" + ','.join(sample) + \"]\"\n",
    "df = pd.read_json(data_json_str)"
   ]
  },
  {
   "cell_type": "code",
   "execution_count": 22,
   "metadata": {},
   "outputs": [
    {
     "data": {
      "text/html": [
       "<div>\n",
       "<style scoped>\n",
       "    .dataframe tbody tr th:only-of-type {\n",
       "        vertical-align: middle;\n",
       "    }\n",
       "\n",
       "    .dataframe tbody tr th {\n",
       "        vertical-align: top;\n",
       "    }\n",
       "\n",
       "    .dataframe thead th {\n",
       "        text-align: right;\n",
       "    }\n",
       "</style>\n",
       "<table border=\"1\" class=\"dataframe\">\n",
       "  <thead>\n",
       "    <tr style=\"text-align: right;\">\n",
       "      <th></th>\n",
       "      <th>business_id</th>\n",
       "      <th>cool</th>\n",
       "      <th>date</th>\n",
       "      <th>funny</th>\n",
       "      <th>review_id</th>\n",
       "      <th>stars</th>\n",
       "      <th>text</th>\n",
       "      <th>useful</th>\n",
       "      <th>user_id</th>\n",
       "    </tr>\n",
       "  </thead>\n",
       "  <tbody>\n",
       "    <tr>\n",
       "      <th>0</th>\n",
       "      <td>TmIucPRTngutrjDpC0nXgQ</td>\n",
       "      <td>1</td>\n",
       "      <td>2018-03-20</td>\n",
       "      <td>0</td>\n",
       "      <td>JNVprSkQjHfOwJMKfZWkNA</td>\n",
       "      <td>5</td>\n",
       "      <td>I don't know where to begin! I came in with a ...</td>\n",
       "      <td>1</td>\n",
       "      <td>6sGFoSoU7Jr0EbgL1EK3xQ</td>\n",
       "    </tr>\n",
       "    <tr>\n",
       "      <th>1</th>\n",
       "      <td>M-DIwf9-S3FqA4zI9OCAbQ</td>\n",
       "      <td>9</td>\n",
       "      <td>2018-02-20</td>\n",
       "      <td>7</td>\n",
       "      <td>V0Qjge4QgBeXSomrAnPTdQ</td>\n",
       "      <td>2</td>\n",
       "      <td>They say good things come to those who wait. T...</td>\n",
       "      <td>13</td>\n",
       "      <td>EXKDLuYoZUKUNNNYA7TlGQ</td>\n",
       "    </tr>\n",
       "    <tr>\n",
       "      <th>2</th>\n",
       "      <td>mz9ltimeAIy2c2qf5ctljw</td>\n",
       "      <td>0</td>\n",
       "      <td>2015-01-03</td>\n",
       "      <td>0</td>\n",
       "      <td>63NDxdKFtLejDzius77kXA</td>\n",
       "      <td>4</td>\n",
       "      <td>What a great experience! Visually a very stunn...</td>\n",
       "      <td>0</td>\n",
       "      <td>6NYDXzkyYW3O2zYjzPRMsg</td>\n",
       "    </tr>\n",
       "    <tr>\n",
       "      <th>3</th>\n",
       "      <td>ukov0vX_X5a76CiVaNWKvw</td>\n",
       "      <td>0</td>\n",
       "      <td>2015-01-26</td>\n",
       "      <td>0</td>\n",
       "      <td>z_Gl5bCD5xiAV5yMyi1VJg</td>\n",
       "      <td>1</td>\n",
       "      <td>I don't understand this place. This is a horri...</td>\n",
       "      <td>4</td>\n",
       "      <td>7jev9oqE9jawRKXAb7Vq_g</td>\n",
       "    </tr>\n",
       "    <tr>\n",
       "      <th>4</th>\n",
       "      <td>6q7TLSWByKGeIkt1HYBUgw</td>\n",
       "      <td>0</td>\n",
       "      <td>2017-01-11</td>\n",
       "      <td>0</td>\n",
       "      <td>EcON0QbB79S-Ws107hdYdw</td>\n",
       "      <td>5</td>\n",
       "      <td>Black Bear Diner is great! Awesome food, large...</td>\n",
       "      <td>0</td>\n",
       "      <td>uMqUy9ELjvhiW6_jD47Xaw</td>\n",
       "    </tr>\n",
       "  </tbody>\n",
       "</table>\n",
       "</div>"
      ],
      "text/plain": [
       "              business_id  cool       date  funny               review_id  \\\n",
       "0  TmIucPRTngutrjDpC0nXgQ     1 2018-03-20      0  JNVprSkQjHfOwJMKfZWkNA   \n",
       "1  M-DIwf9-S3FqA4zI9OCAbQ     9 2018-02-20      7  V0Qjge4QgBeXSomrAnPTdQ   \n",
       "2  mz9ltimeAIy2c2qf5ctljw     0 2015-01-03      0  63NDxdKFtLejDzius77kXA   \n",
       "3  ukov0vX_X5a76CiVaNWKvw     0 2015-01-26      0  z_Gl5bCD5xiAV5yMyi1VJg   \n",
       "4  6q7TLSWByKGeIkt1HYBUgw     0 2017-01-11      0  EcON0QbB79S-Ws107hdYdw   \n",
       "\n",
       "   stars                                               text  useful  \\\n",
       "0      5  I don't know where to begin! I came in with a ...       1   \n",
       "1      2  They say good things come to those who wait. T...      13   \n",
       "2      4  What a great experience! Visually a very stunn...       0   \n",
       "3      1  I don't understand this place. This is a horri...       4   \n",
       "4      5  Black Bear Diner is great! Awesome food, large...       0   \n",
       "\n",
       "                  user_id  \n",
       "0  6sGFoSoU7Jr0EbgL1EK3xQ  \n",
       "1  EXKDLuYoZUKUNNNYA7TlGQ  \n",
       "2  6NYDXzkyYW3O2zYjzPRMsg  \n",
       "3  7jev9oqE9jawRKXAb7Vq_g  \n",
       "4  uMqUy9ELjvhiW6_jD47Xaw  "
      ]
     },
     "execution_count": 22,
     "metadata": {},
     "output_type": "execute_result"
    }
   ],
   "source": [
    "df.head()"
   ]
  },
  {
   "cell_type": "markdown",
   "metadata": {},
   "source": [
    "This seems to work, so let's wrap this functionality up into a processing function.\n",
    "\n",
    "By convention, a `process_*` function takes a `dataset_name`, and any other options that may be useful for reading the data, and returns a dictionary that matches the `Dataset` constructor signature.\n",
    "\n",
    "We will place this function in `localdata.py`, (and add it to `__all__`) to make it visible to our dataset code.\n",
    "\n",
    "Here's what the `Dataset` constructor signature looks like:"
   ]
  },
  {
   "cell_type": "code",
   "execution_count": 23,
   "metadata": {},
   "outputs": [
    {
     "name": "stdout",
     "output_type": "stream",
     "text": [
      "Help on function __init__ in module src.data.dset:\n",
      "\n",
      "__init__(self, dataset_name=None, data=None, target=None, metadata=None, license_txt=None, descr_txt=None, license_file=None, descr_file=None, **kwargs)\n",
      "    Object representing a dataset object.\n",
      "    Notionally compatible with scikit-learn's Bunch object\n",
      "    \n",
      "    dataset_name: string (required)\n",
      "        key to use for this dataset\n",
      "    data:\n",
      "        Data: (usually np.array or np.ndarray)\n",
      "    target: np.array\n",
      "        Either classification target or label to be used. for each of the points\n",
      "        in `data`\n",
      "    metadata: dict\n",
      "        Data about the object. Key fields include `license_txt` and `descr`\n",
      "    license_txt: str\n",
      "        String to use as the LICENSE for this dataset\n",
      "    license_file: filename\n",
      "        If `license_txt` is None, license text can be read from this file\n",
      "    descr_txt: str\n",
      "        String to use as the DESCR (description) for this dataset\n",
      "    descr_file: filename\n",
      "        If `descr_txt` is None, description text can be read from this file\n",
      "\n"
     ]
    }
   ],
   "source": [
    "help(Dataset.__init__)"
   ]
  },
  {
   "cell_type": "code",
   "execution_count": 24,
   "metadata": {},
   "outputs": [],
   "source": [
    "def process_yelp(dataset_name='yelp', metadata=None, num_reviews=None, filename=None, random_seed=None):\n",
    "    \"\"\"Convert raw yelp data to a Dataset Options dictionary\n",
    "    \n",
    "    Parameters\n",
    "    ----------\n",
    "    num_reviews: int or None\n",
    "        if set, randomly sample this many reviews from the yelp data\n",
    "    random_seed: int\n",
    "        Set for reproducible randomness\n",
    "    \"\"\"\n",
    "    if metadata is None:\n",
    "        metadata = {}\n",
    "    if filename is None:\n",
    "        filename = interim_data_path / 'yelp' / 'yelp_academic_dataset_review.json'\n",
    "    else:\n",
    "        filename = pathlib.Path(filename)\n",
    "    \n",
    "    if random_seed is not None:\n",
    "        metadata['random_seed'] = random_seed\n",
    "        random.seed(random_seed)\n",
    "    \n",
    "    if num_reviews is None:\n",
    "        df = yelp_json_to_df(filename)\n",
    "    else:\n",
    "        sample = reservoir_sample(review_file, k, random_seed=random_seed)\n",
    "        data_json_str = \"[\" + ','.join(sample) + \"]\"\n",
    "        df = pd.read_json(data_json_str)\n",
    "    \n",
    "    data = np.array(df.text)\n",
    "    \n",
    "    target = None    \n",
    "    dset_opts = {\n",
    "        'dataset_name': dataset_name,\n",
    "        'data': data,\n",
    "        'target': target,\n",
    "        'metadata': metadata\n",
    "    }\n",
    "    return dset_opts\n",
    "        "
   ]
  },
  {
   "cell_type": "code",
   "execution_count": 25,
   "metadata": {},
   "outputs": [
    {
     "name": "stdout",
     "output_type": "stream",
     "text": [
      "CPU times: user 30.4 s, sys: 4.22 s, total: 34.6 s\n",
      "Wall time: 44.1 s\n"
     ]
    }
   ],
   "source": [
    "%%time\n",
    "opts = process_yelp(num_reviews=10000, metadata=dset.metadata)"
   ]
  },
  {
   "cell_type": "code",
   "execution_count": 26,
   "metadata": {},
   "outputs": [
    {
     "name": "stdout",
     "output_type": "stream",
     "text": [
      "Overwriting ../src/data/localdata.py\n"
     ]
    }
   ],
   "source": [
    "%%file ../src/data/localdata.py\n",
    "\"\"\"\n",
    "Custom dataset processing/generation functions should be added to this file\n",
    "\"\"\"\n",
    "\n",
    "from src.data.utils import reservoir_sample\n",
    "from src.paths import interim_data_path\n",
    "import pandas as pd\n",
    "import numpy as np\n",
    "import random\n",
    "\n",
    "__all__ = ['process_yelp']\n",
    "\n",
    "def yelp_json_to_df(filename):\n",
    "    \"\"\"Convert a yelp JSON file to a dataframe\n",
    "    \n",
    "    Yelp data consists of one json-object per line.\n",
    "    \n",
    "    Parameters\n",
    "    ----------\n",
    "    \n",
    "    Returns\n",
    "    -------\n",
    "    dataframe corresponding to the file\n",
    "    \"\"\"\n",
    "    with open(filename, 'r') as f:\n",
    "        data = f.readlines()\n",
    "\n",
    "    # remove the trailing CR from each line\n",
    "    data = map(lambda x: x.rstrip(), data)\n",
    "\n",
    "    # Pack it up as a json list\n",
    "    data_json_str = \"[\" + ','.join(data) + \"]\"\n",
    "\n",
    "    # and load it into pandas\n",
    "    df = pd.read_json(data_json_str)\n",
    "    return df\n",
    "\n",
    "def process_yelp(dataset_name='yelp', metadata=None, num_reviews=100000, filename=None, random_seed=None):\n",
    "    \"\"\"Convert raw yelp data to a Dataset Options dictionary\n",
    "    \n",
    "    Parameters\n",
    "    ----------\n",
    "    num_reviews: int or None\n",
    "        if set, randomly sample this many reviews from the yelp data\n",
    "    random_seed: int\n",
    "        Set for reproducible randomness\n",
    "    \"\"\"\n",
    "    if metadata is None:\n",
    "        metadata = {}\n",
    "    if filename is None:\n",
    "        filename = interim_data_path / 'yelp' / 'yelp_academic_dataset_review.json'\n",
    "    else:\n",
    "        filename = pathlib.Path(filename)\n",
    "    \n",
    "    if random_seed is not None:\n",
    "        metadata['random_seed'] = random_seed\n",
    "        random.seed(random_seed)\n",
    "    \n",
    "    if num_reviews is None:\n",
    "        df = yelp_json_to_df(filename)\n",
    "    else:\n",
    "        sample = reservoir_sample(filename, n_samples=num_reviews, random_seed=random_seed)\n",
    "        data_json_str = \"[\" + ','.join(sample) + \"]\"\n",
    "        df = pd.read_json(data_json_str)\n",
    "        metadata['num_reviews'] = num_reviews\n",
    "    \n",
    "    data = np.array(df.text)\n",
    "    \n",
    "    target = None    \n",
    "    dset_opts = {\n",
    "        'dataset_name': dataset_name,\n",
    "        'data': data,\n",
    "        'target': target,\n",
    "        'metadata': metadata\n",
    "    }\n",
    "    return dset_opts\n"
   ]
  },
  {
   "cell_type": "markdown",
   "metadata": {},
   "source": [
    "Let's make sure this works as expected"
   ]
  },
  {
   "cell_type": "code",
   "execution_count": 27,
   "metadata": {},
   "outputs": [
    {
     "name": "stdout",
     "output_type": "stream",
     "text": [
      "k=100000: data=(100000,)\n"
     ]
    }
   ],
   "source": [
    "from src.data.localdata import process_yelp\n",
    "\n",
    "for k in [100000]:\n",
    "    dset_opts = process_yelp(num_reviews=k)\n",
    "    dset = Dataset(**dset_opts)\n",
    "    print(f'k={k}: data={dset.data.shape}')"
   ]
  },
  {
   "cell_type": "markdown",
   "metadata": {},
   "source": [
    "This all looks good\n"
   ]
  },
  {
   "cell_type": "code",
   "execution_count": 28,
   "metadata": {},
   "outputs": [],
   "source": [
    "datasets.add_dataset_from_function(dataset_name, process_yelp);"
   ]
  },
  {
   "cell_type": "markdown",
   "metadata": {},
   "source": [
    "Finally, re-load the dataset and save a copy of it"
   ]
  },
  {
   "cell_type": "code",
   "execution_count": 29,
   "metadata": {},
   "outputs": [
    {
     "name": "stdout",
     "output_type": "stream",
     "text": [
      "<Dataset: yelp, data.shape=(99999,), metadata=['license', 'descr', 'dataset_name', 'num_reviews', 'hash_type', 'data_hash', 'target_hash']>\n",
      "CPU times: user 756 ms, sys: 217 ms, total: 973 ms\n",
      "Wall time: 1.71 s\n"
     ]
    }
   ],
   "source": [
    "%%time\n",
    "ds = load_dataset(dataset_name, num_reviews=99999)\n",
    "print(str(ds))\n",
    "ds.dump()"
   ]
  },
  {
   "cell_type": "markdown",
   "metadata": {},
   "source": [
    "The saved data is stored in the `processed_data_path`. An copy of just the metadata is also stored, so that it may be quickly checked without loading the entire dataset."
   ]
  },
  {
   "cell_type": "code",
   "execution_count": 30,
   "metadata": {},
   "outputs": [
    {
     "data": {
      "text/plain": [
       "['.gitkeep', 'yelp.dataset', 'yelp.metadata']"
      ]
     },
     "execution_count": 30,
     "metadata": {},
     "output_type": "execute_result"
    }
   ],
   "source": [
    "list_dir(processed_data_path)"
   ]
  },
  {
   "cell_type": "code",
   "execution_count": 31,
   "metadata": {},
   "outputs": [
    {
     "data": {
      "text/plain": [
       "(99999,)"
      ]
     },
     "execution_count": 31,
     "metadata": {},
     "output_type": "execute_result"
    }
   ],
   "source": [
    "ds.data.shape"
   ]
  },
  {
   "cell_type": "code",
   "execution_count": 32,
   "metadata": {},
   "outputs": [
    {
     "data": {
      "text/plain": [
       "dict_keys(['license', 'descr', 'dataset_name', 'num_reviews', 'hash_type', 'data_hash', 'target_hash'])"
      ]
     },
     "execution_count": 32,
     "metadata": {},
     "output_type": "execute_result"
    }
   ],
   "source": [
    "ds.metadata.keys()"
   ]
  },
  {
   "cell_type": "code",
   "execution_count": 33,
   "metadata": {},
   "outputs": [],
   "source": [
    "ds = load_dataset(dataset_name, num_reviews=100000)"
   ]
  },
  {
   "cell_type": "code",
   "execution_count": 34,
   "metadata": {},
   "outputs": [
    {
     "data": {
      "text/plain": [
       "(100000,)"
      ]
     },
     "execution_count": 34,
     "metadata": {},
     "output_type": "execute_result"
    }
   ],
   "source": [
    "ds.data.shape"
   ]
  },
  {
   "cell_type": "code",
   "execution_count": 35,
   "metadata": {},
   "outputs": [
    {
     "data": {
      "text/plain": [
       "\"I wouldn't recommend this place to a dog. I can't believe the CEO is a Dragon. He has no business giving advice on anything based on the way this place is run.   The food is disgusting and the service was a joke. No idea what prompted me to come here with so many great places in the neighbourhood.\""
      ]
     },
     "execution_count": 35,
     "metadata": {},
     "output_type": "execute_result"
    }
   ],
   "source": [
    "ds.data[0]"
   ]
  },
  {
   "cell_type": "code",
   "execution_count": null,
   "metadata": {},
   "outputs": [],
   "source": []
  }
 ],
 "metadata": {
  "kernelspec": {
   "display_name": "Python [default]",
   "language": "python",
   "name": "python3"
  },
  "language_info": {
   "codemirror_mode": {
    "name": "ipython",
    "version": 3
   },
   "file_extension": ".py",
   "mimetype": "text/x-python",
   "name": "python",
   "nbconvert_exporter": "python",
   "pygments_lexer": "ipython3",
   "version": "3.6.6"
  }
 },
 "nbformat": 4,
 "nbformat_minor": 2
}
